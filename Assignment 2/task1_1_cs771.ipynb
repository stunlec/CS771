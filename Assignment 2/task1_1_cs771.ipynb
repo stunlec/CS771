{
 "cells": [
  {
   "cell_type": "code",
   "execution_count": 2,
   "metadata": {
    "id": "bHVKga9PB1Sg"
   },
   "outputs": [],
   "source": [
    "# Importing the required libraries\n",
    "import pandas as pd\n",
    "import numpy as np\n",
    "import matplotlib.pyplot as plt\n",
    "import seaborn as sns\n",
    "import torch\n",
    "import tensorflow as tf\n",
    "from torchvision import transforms\n",
    "from torchvision.models import efficientnet_b3, EfficientNet_B3_Weights\n",
    "import os\n",
    "import time\n",
    "from sklearn.metrics import accuracy_score\n",
    "import pickle\n",
    "import matplotlib.pyplot as plt\n",
    "import seaborn as sns\n"
   ]
  },
  {
   "cell_type": "code",
   "execution_count": 2,
   "metadata": {
    "colab": {
     "base_uri": "https://localhost:8080/"
    },
    "id": "WNNxdXHQB79U",
    "outputId": "601a5a1d-47b0-4adf-d9b5-f5238b4ce1fe"
   },
   "outputs": [
    {
     "name": "stdout",
     "output_type": "stream",
     "text": [
      "Mounted at /content/drive\n"
     ]
    }
   ],
   "source": [
    "from google.colab import drive\n",
    "drive.mount('/content/drive')"
   ]
  },
  {
   "cell_type": "code",
   "execution_count": null,
   "metadata": {
    "colab": {
     "base_uri": "https://localhost:8080/"
    },
    "id": "ua0s4IIU0QbO",
    "outputId": "7feb3b01-3274-4f67-c7d2-2b85d55802f0"
   },
   "outputs": [
    {
     "name": "stderr",
     "output_type": "stream",
     "text": [
      "Downloading: \"https://download.pytorch.org/models/resnet50-11ad3fa6.pth\" to /root/.cache/torch/hub/checkpoints/resnet50-11ad3fa6.pth\n",
      "100%|██████████| 97.8M/97.8M [00:01<00:00, 82.7MB/s]\n",
      "<ipython-input-9-3a3d2605a3c9>:58: FutureWarning: You are using `torch.load` with `weights_only=False` (the current default value), which uses the default pickle module implicitly. It is possible to construct malicious pickle data which will execute arbitrary code during unpickling (See https://github.com/pytorch/pytorch/blob/main/SECURITY.md#untrusted-models for more details). In a future release, the default value for `weights_only` will be flipped to `True`. This limits the functions that could be executed during unpickling. Arbitrary objects will no longer be allowed to be loaded via this mode unless they are explicitly allowlisted by the user via `torch.serialization.add_safe_globals`. We recommend you start setting `weights_only=True` for any use case where you don't have full control of the loaded file. Please open an issue on GitHub for any issues related to this experimental feature.\n",
      "  dataset = torch.load(data_path)  # Load dataset\n"
     ]
    },
    {
     "name": "stdout",
     "output_type": "stream",
     "text": [
      "Processing train dataset 1...\n",
      "Saved features for train dataset 1 to /content/drive/MyDrive/part_one_dataset/extracted_features/train/1_train_features.npy\n",
      "Processing train dataset 2...\n",
      "Saved features for train dataset 2 to /content/drive/MyDrive/part_one_dataset/extracted_features/train/2_train_features.npy\n",
      "Processing train dataset 3...\n",
      "Saved features for train dataset 3 to /content/drive/MyDrive/part_one_dataset/extracted_features/train/3_train_features.npy\n",
      "Processing train dataset 4...\n",
      "Saved features for train dataset 4 to /content/drive/MyDrive/part_one_dataset/extracted_features/train/4_train_features.npy\n",
      "Processing train dataset 5...\n",
      "Saved features for train dataset 5 to /content/drive/MyDrive/part_one_dataset/extracted_features/train/5_train_features.npy\n",
      "Processing train dataset 6...\n",
      "Saved features for train dataset 6 to /content/drive/MyDrive/part_one_dataset/extracted_features/train/6_train_features.npy\n",
      "Processing train dataset 7...\n",
      "Saved features for train dataset 7 to /content/drive/MyDrive/part_one_dataset/extracted_features/train/7_train_features.npy\n",
      "Processing train dataset 8...\n",
      "Saved features for train dataset 8 to /content/drive/MyDrive/part_one_dataset/extracted_features/train/8_train_features.npy\n",
      "Processing train dataset 9...\n",
      "Saved features for train dataset 9 to /content/drive/MyDrive/part_one_dataset/extracted_features/train/9_train_features.npy\n",
      "Processing train dataset 10...\n",
      "Saved features for train dataset 10 to /content/drive/MyDrive/part_one_dataset/extracted_features/train/10_train_features.npy\n",
      "Processing eval dataset 1...\n",
      "Saved features for eval dataset 1 to /content/drive/MyDrive/part_one_dataset/extracted_features/eval/1_eval_features.npy\n",
      "Processing eval dataset 2...\n",
      "Saved features for eval dataset 2 to /content/drive/MyDrive/part_one_dataset/extracted_features/eval/2_eval_features.npy\n",
      "Processing eval dataset 3...\n",
      "Saved features for eval dataset 3 to /content/drive/MyDrive/part_one_dataset/extracted_features/eval/3_eval_features.npy\n",
      "Processing eval dataset 4...\n",
      "Saved features for eval dataset 4 to /content/drive/MyDrive/part_one_dataset/extracted_features/eval/4_eval_features.npy\n",
      "Processing eval dataset 5...\n",
      "Saved features for eval dataset 5 to /content/drive/MyDrive/part_one_dataset/extracted_features/eval/5_eval_features.npy\n",
      "Processing eval dataset 6...\n",
      "Saved features for eval dataset 6 to /content/drive/MyDrive/part_one_dataset/extracted_features/eval/6_eval_features.npy\n",
      "Processing eval dataset 7...\n",
      "Saved features for eval dataset 7 to /content/drive/MyDrive/part_one_dataset/extracted_features/eval/7_eval_features.npy\n",
      "Processing eval dataset 8...\n",
      "Saved features for eval dataset 8 to /content/drive/MyDrive/part_one_dataset/extracted_features/eval/8_eval_features.npy\n",
      "Processing eval dataset 9...\n",
      "Saved features for eval dataset 9 to /content/drive/MyDrive/part_one_dataset/extracted_features/eval/9_eval_features.npy\n",
      "Processing eval dataset 10...\n",
      "Saved features for eval dataset 10 to /content/drive/MyDrive/part_one_dataset/extracted_features/eval/10_eval_features.npy\n"
     ]
    }
   ],
   "source": [
    "# Define the FeatureExtractor class for EfficientNet-B3\n",
    "class FeatureExtractor:\n",
    "    def __init__(self):\n",
    "        \"\"\"\n",
    "        Initialize the FeatureExtractor with EfficientNet-B3 as the backbone.\n",
    "        The model is loaded with pre-trained weights, and the fully connected (FC) layer is removed \n",
    "        to use the network as a feature extractor.\n",
    "        \"\"\"\n",
    "        # Load EfficientNet-B3 pre-trained on ImageNet\n",
    "        self.model = efficientnet_b3(weights=EfficientNet_B3_Weights.DEFAULT)\n",
    "        # Remove the classifier (FC layer) to get feature embeddings\n",
    "        self.model = torch.nn.Sequential(*list(self.model.children())[:-1])\n",
    "        self.model.eval()  # Set the model to evaluation mode\n",
    "\n",
    "        # Define the transformation pipeline for input preprocessing\n",
    "        self.transform = transforms.Compose([\n",
    "            transforms.ToPILImage(),  # Convert numpy arrays to PIL images\n",
    "            transforms.Resize((300, 300)),  # Resize images to match EfficientNet-B3 input size\n",
    "            transforms.ToTensor(),  # Convert images to PyTorch tensors\n",
    "            transforms.Normalize(\n",
    "                mean=[0.485, 0.456, 0.406],  # Normalization values for ImageNet-trained models\n",
    "                std=[0.229, 0.224, 0.225]   # Standard deviation values for normalization\n",
    "            ),\n",
    "        ])\n",
    "\n",
    "    def extract(self, images):\n",
    "        \"\"\"\n",
    "        Extract feature vectors for a batch of input images.\n",
    "        \n",
    "        Args:\n",
    "            images (numpy.ndarray): Batch of raw images as numpy arrays.\n",
    "        \n",
    "        Returns:\n",
    "            numpy.ndarray: Array of feature vectors extracted from the images.\n",
    "        \"\"\"\n",
    "        features = []  # Initialize a list to store feature vectors\n",
    "        with torch.no_grad():  # Disable gradient calculations to save memory and computation\n",
    "            for img in images:\n",
    "                # Apply transformations to preprocess the image\n",
    "                img_transformed = self.transform(img)\n",
    "                img_transformed = img_transformed.unsqueeze(0)  # Add batch dimension (1, C, H, W)\n",
    "                # Pass the image through the model to extract features\n",
    "                feature = self.model(img_transformed).squeeze().numpy()\n",
    "                features.append(feature)  # Store the extracted feature vector\n",
    "\n",
    "        return np.array(features)  # Return all features as a numpy array\n",
    "\n",
    "# Define paths to the dataset directories\n",
    "train_data_dir = '/content/drive/MyDrive/part_one_dataset/train_data'\n",
    "eval_data_dir = '/content/drive/MyDrive/part_one_dataset/eval_data'\n",
    "\n",
    "# Instantiate the FeatureExtractor class\n",
    "extractor = FeatureExtractor()\n",
    "\n",
    "# Define a function to process datasets and extract features\n",
    "def process_datasets(data_dir, prefix, num_datasets, output_dir):\n",
    "    \"\"\"\n",
    "    Process datasets by extracting feature vectors using EfficientNet-B3 and saving them as .npy files.\n",
    "    \n",
    "    Args:\n",
    "        data_dir (str): Path to the directory containing dataset files.\n",
    "        prefix (str): Prefix for dataset files (e.g., 'train', 'eval').\n",
    "        num_datasets (int): Number of dataset files to process.\n",
    "        output_dir (str): Path to the directory where features will be saved.\n",
    "    \"\"\"\n",
    "    # Ensure the output directory exists\n",
    "    os.makedirs(output_dir, exist_ok=True)\n",
    "\n",
    "    for i in range(1, num_datasets + 1):  # Iterate through the datasets\n",
    "        data_path = os.path.join(data_dir, f\"{i}_{prefix}_data.tar.pth\")  # Construct dataset file path\n",
    "        dataset = torch.load(data_path)  # Load the dataset file\n",
    "        images = dataset['data']  # Replace 'data' with the actual key for images in your dataset\n",
    "\n",
    "        print(f\"Processing {prefix} dataset {i}...\")  # Log the processing status\n",
    "        # Extract features using the FeatureExtractor\n",
    "        features = extractor.extract(images)\n",
    "        # Define the path to save extracted features\n",
    "        output_path = os.path.join(output_dir, f\"{i}_{prefix}_features.npy\")\n",
    "        np.save(output_path, features)  # Save features as a .npy file\n",
    "        print(f\"Saved features for {prefix} dataset {i} to {output_path}\")  # Log the save status\n",
    "\n",
    "# Define output directories for training and evaluation features\n",
    "train_output_dir = '/content/drive/MyDrive/part_one_dataset/eb3_extracted_features/train'\n",
    "eval_output_dir = '/content/drive/MyDrive/part_one_dataset/eb3_extracted_features/eval'\n",
    "\n",
    "# Process and extract features from training and evaluation datasets\n",
    "process_datasets(train_data_dir, 'train', 10, train_output_dir)\n",
    "process_datasets(eval_data_dir, 'eval', 10, eval_output_dir)\n"
   ]
  },
  {
   "cell_type": "code",
   "execution_count": 3,
   "metadata": {
    "id": "CLJpz5wyrGW7"
   },
   "outputs": [],
   "source": [
    "class PrototypeClassifier:\n",
    "    \"\"\"\n",
    "    A simple classifier based on class prototypes.\n",
    "    Each class is represented by a prototype, which is the average of all feature vectors assigned to that class.\n",
    "    Classifies new data based on the closest prototype using Euclidean distance.\n",
    "    \"\"\"\n",
    "\n",
    "    def __init__(self):\n",
    "        \"\"\"\n",
    "        Initialize the classifier with empty dictionaries for:\n",
    "        - `prototypes`: Stores the feature vector representing each class.\n",
    "        - `class_counts`: Tracks the number of data points assigned to each class.\n",
    "        \"\"\"\n",
    "        self.prototypes = {}  # Maps class labels to their prototype feature vectors\n",
    "        self.class_counts = {}  # Maps class labels to the count of samples assigned to each class\n",
    "\n",
    "    def euclidean_distance(self, x, y):\n",
    "        \"\"\"\n",
    "        Calculate the Euclidean distance between two vectors.\n",
    "\n",
    "        Args:\n",
    "            x (numpy.ndarray): The first vector.\n",
    "            y (numpy.ndarray): The second vector.\n",
    "\n",
    "        Returns:\n",
    "            float: The Euclidean distance between `x` and `y`.\n",
    "        \"\"\"\n",
    "        return np.linalg.norm(x - y)\n",
    "\n",
    "    def train(self, features, labels):\n",
    "        \"\"\"\n",
    "        Train the classifier by computing prototypes for each class.\n",
    "        Each prototype is the mean feature vector for its respective class.\n",
    "\n",
    "        Args:\n",
    "            features (numpy.ndarray): Feature vectors for training data.\n",
    "            labels (numpy.ndarray): Corresponding labels for the training data.\n",
    "        \"\"\"\n",
    "        for feature, label in zip(features, labels):\n",
    "            if label not in self.prototypes:\n",
    "                # If the class is encountered for the first time, initialize its prototype and count\n",
    "                self.prototypes[label] = feature\n",
    "                self.class_counts[label] = 1\n",
    "            else:\n",
    "                # Update the prototype by calculating the running mean\n",
    "                self.prototypes[label] = (\n",
    "                    self.prototypes[label] * self.class_counts[label] + feature\n",
    "                ) / (self.class_counts[label] + 1)\n",
    "                # Increment the count of samples for this class\n",
    "                self.class_counts[label] += 1\n",
    "\n",
    "    def predict(self, features):\n",
    "        \"\"\"\n",
    "        Predict the class labels for a given set of feature vectors.\n",
    "        Classification is based on the closest prototype in terms of Euclidean distance.\n",
    "\n",
    "        Args:\n",
    "            features (numpy.ndarray): Feature vectors for prediction.\n",
    "\n",
    "        Returns:\n",
    "            numpy.ndarray: Predicted class labels for each feature vector.\n",
    "        \"\"\"\n",
    "        predictions = []  # List to store predicted labels\n",
    "        for feature in features:\n",
    "            # Compute distances from the feature to all class prototypes\n",
    "            distances = {\n",
    "                label: self.euclidean_distance(feature, prototype)\n",
    "                for label, prototype in self.prototypes.items()\n",
    "            }\n",
    "            # Predict the label of the closest prototype\n",
    "            predictions.append(min(distances, key=distances.get))\n",
    "        return np.array(predictions)\n",
    "\n",
    "    def update_classifier(self, features, pseudo_labels):\n",
    "        \"\"\"\n",
    "        Incrementally update the classifier with new data and pseudo-labels.\n",
    "        This is useful for semi-supervised or active learning scenarios.\n",
    "\n",
    "        Args:\n",
    "            features (numpy.ndarray): New feature vectors.\n",
    "            pseudo_labels (numpy.ndarray): Pseudo-labels for the new data.\n",
    "        \"\"\"\n",
    "        for feature, pseudo_label in zip(features, pseudo_labels):\n",
    "            if pseudo_label not in self.prototypes:\n",
    "                # If the class is new, initialize its prototype and count\n",
    "                self.prototypes[pseudo_label] = feature\n",
    "                self.class_counts[pseudo_label] = 1\n",
    "            else:\n",
    "                # Update the prototype by calculating the running mean\n",
    "                self.prototypes[pseudo_label] = (\n",
    "                    self.prototypes[pseudo_label] * self.class_counts[pseudo_label] + feature\n",
    "                ) / (self.class_counts[pseudo_label] + 1)\n",
    "                # Increment the count of samples for this pseudo-label\n",
    "                self.class_counts[pseudo_label] += 1\n"
   ]
  },
  {
   "cell_type": "code",
   "execution_count": 4,
   "metadata": {
    "id": "XePIFbuRsooU"
   },
   "outputs": [],
   "source": [
    "def save_model(model, path):\n",
    "    \"\"\"\n",
    "    Save a Python object (e.g., a trained model) to a file using pickle.\n",
    "\n",
    "    Args:\n",
    "        model (object): The Python object to save.\n",
    "        path (str): Path to save the file.\n",
    "    \"\"\"\n",
    "    with open(path, 'wb') as f:\n",
    "        pickle.dump(model, f)\n",
    "\n",
    "\n",
    "def load_model(path):\n",
    "    \"\"\"\n",
    "    Load a Python object (e.g., a trained model) from a pickle file.\n",
    "\n",
    "    Args:\n",
    "        path (str): Path to the pickle file.\n",
    "\n",
    "    Returns:\n",
    "        object: The loaded Python object.\n",
    "    \"\"\"\n",
    "    with open(path, 'rb') as f:\n",
    "        return pickle.load(f)\n",
    "\n",
    "\n",
    "def task1_train_features():\n",
    "    \"\"\"\n",
    "    Train a prototype-based classifier incrementally on pre-extracted feature datasets (D1 to D10).\n",
    "    - Each dataset contains features and corresponding labels.\n",
    "    - The first dataset is used to initialize the classifier.\n",
    "    - Subsequent datasets are used to update the classifier incrementally.\n",
    "    - Each trained model is saved to Google Drive after processing a dataset.\n",
    "\n",
    "    Logs the time taken for each training step.\n",
    "    \"\"\"\n",
    "    classifier = None  # Initialize the classifier as None\n",
    "\n",
    "    # Directory containing feature datasets\n",
    "    feature_dir = \"/content/drive/MyDrive/part_one_dataset/eb3_extracted_features/train\"\n",
    "    timings = []  # List to store the time taken for each training step\n",
    "\n",
    "    # Loop through datasets D1 to D10\n",
    "    for i in range(1, 11):\n",
    "        start_time = time.time()  # Start timer for the training step\n",
    "\n",
    "        # Paths to the feature and label files for the current dataset\n",
    "        feature_path = os.path.join(feature_dir, f\"{i}_train_features.npy\")\n",
    "        label_path = os.path.join(feature_dir, f\"{i}_train_labels.npy\")\n",
    "\n",
    "        # Load the feature vectors (Numpy format)\n",
    "        features = np.load(feature_path)\n",
    "        # Load the labels (PyTorch format, stored in a tar.pth file for Dataset D1)\n",
    "        if i == 1:\n",
    "            labels = torch.load('/content/drive/MyDrive/part_one_dataset/train_data/1_train_data.tar.pth')['targets']\n",
    "        else:\n",
    "            labels = np.load(label_path)\n",
    "\n",
    "        print(f\"Loaded dataset {i} - Features shape: {features.shape}, Labels shape: {labels.shape}\")\n",
    "\n",
    "        if i == 1:\n",
    "            # Initialize and train the classifier with the first dataset\n",
    "            classifier = PrototypeClassifier()\n",
    "            classifier.train(features, labels)\n",
    "        else:\n",
    "            # Use pseudo-labels if labels are not provided; otherwise, use true labels\n",
    "            if labels is None:\n",
    "                pseudo_labels = classifier.predict(features)\n",
    "                print(f\"Dataset {i} does not have labels. Using pseudo-labels.\")\n",
    "            else:\n",
    "                pseudo_labels = labels\n",
    "\n",
    "            # Incrementally update the classifier with the new data\n",
    "            classifier.update_classifier(features, pseudo_labels)\n",
    "\n",
    "        # Save the trained classifier to Google Drive\n",
    "        save_path = f\"/content/drive/MyDrive/eb3_trained_models/f{i}_features.pkl\"\n",
    "        save_model(classifier, save_path)\n",
    "        print(f\"Trained and saved model f{i}_features.pkl to Google Drive at {save_path}\")\n",
    "\n",
    "        # Stop timer and calculate elapsed time\n",
    "        end_time = time.time()\n",
    "        elapsed_time = end_time - start_time\n",
    "        timings.append((i, elapsed_time))\n",
    "        print(f\"Time taken to train model f{i}: {elapsed_time:.2f} seconds\")\n",
    "\n",
    "    # Log total timings for all datasets\n",
    "    print(\"\\n--- Training Summary ---\")\n",
    "    for i, time_taken in timings:\n",
    "        print(f\"Dataset {i}: {time_taken:.2f} seconds\")\n"
   ]
  },
  {
   "cell_type": "code",
   "execution_count": 5,
   "metadata": {
    "colab": {
     "base_uri": "https://localhost:8080/"
    },
    "id": "vftLzXkHsvTG",
    "outputId": "7bb63ced-10f4-4fbd-f85b-4059a1a41649"
   },
   "outputs": [
    {
     "name": "stderr",
     "output_type": "stream",
     "text": [
      "<ipython-input-4-a9156c8bd7cd>:39: FutureWarning: You are using `torch.load` with `weights_only=False` (the current default value), which uses the default pickle module implicitly. It is possible to construct malicious pickle data which will execute arbitrary code during unpickling (See https://github.com/pytorch/pytorch/blob/main/SECURITY.md#untrusted-models for more details). In a future release, the default value for `weights_only` will be flipped to `True`. This limits the functions that could be executed during unpickling. Arbitrary objects will no longer be allowed to be loaded via this mode unless they are explicitly allowlisted by the user via `torch.serialization.add_safe_globals`. We recommend you start setting `weights_only=True` for any use case where you don't have full control of the loaded file. Please open an issue on GitHub for any issues related to this experimental feature.\n",
      "  labels = torch.load('/content/drive/MyDrive/part_one_dataset/train_data/1_train_data.tar.pth')['targets']\n"
     ]
    },
    {
     "name": "stdout",
     "output_type": "stream",
     "text": [
      "Loaded dataset 1 - Features shape: (2500, 1536), Labels shape: (2500,)\n",
      "Trained and saved model f1_features.pkl to Google Drive at /content/drive/MyDrive/eb3_trained_models/f1_features.pkl\n",
      "Time taken to train model f1: 3.15 seconds\n",
      "Loaded dataset 2 - Features shape: (2500, 1536), Labels shape: (2500,)\n",
      "Trained and saved model f2_features.pkl to Google Drive at /content/drive/MyDrive/eb3_trained_models/f2_features.pkl\n",
      "Time taken to train model f2: 1.78 seconds\n",
      "Loaded dataset 3 - Features shape: (2500, 1536), Labels shape: (2500,)\n",
      "Trained and saved model f3_features.pkl to Google Drive at /content/drive/MyDrive/eb3_trained_models/f3_features.pkl\n",
      "Time taken to train model f3: 2.26 seconds\n",
      "Loaded dataset 4 - Features shape: (2500, 1536), Labels shape: (2500,)\n",
      "Trained and saved model f4_features.pkl to Google Drive at /content/drive/MyDrive/eb3_trained_models/f4_features.pkl\n",
      "Time taken to train model f4: 1.91 seconds\n",
      "Loaded dataset 5 - Features shape: (2500, 1536), Labels shape: (2500,)\n",
      "Trained and saved model f5_features.pkl to Google Drive at /content/drive/MyDrive/eb3_trained_models/f5_features.pkl\n",
      "Time taken to train model f5: 2.83 seconds\n",
      "Loaded dataset 6 - Features shape: (2500, 1536), Labels shape: (2500,)\n",
      "Trained and saved model f6_features.pkl to Google Drive at /content/drive/MyDrive/eb3_trained_models/f6_features.pkl\n",
      "Time taken to train model f6: 2.66 seconds\n",
      "Loaded dataset 7 - Features shape: (2500, 1536), Labels shape: (2500,)\n",
      "Trained and saved model f7_features.pkl to Google Drive at /content/drive/MyDrive/eb3_trained_models/f7_features.pkl\n",
      "Time taken to train model f7: 1.65 seconds\n",
      "Loaded dataset 8 - Features shape: (2500, 1536), Labels shape: (2500,)\n",
      "Trained and saved model f8_features.pkl to Google Drive at /content/drive/MyDrive/eb3_trained_models/f8_features.pkl\n",
      "Time taken to train model f8: 2.06 seconds\n",
      "Loaded dataset 9 - Features shape: (2500, 1536), Labels shape: (2500,)\n",
      "Trained and saved model f9_features.pkl to Google Drive at /content/drive/MyDrive/eb3_trained_models/f9_features.pkl\n",
      "Time taken to train model f9: 2.19 seconds\n",
      "Loaded dataset 10 - Features shape: (2500, 1536), Labels shape: (2500,)\n",
      "Trained and saved model f10_features.pkl to Google Drive at /content/drive/MyDrive/eb3_trained_models/f10_features.pkl\n",
      "Time taken to train model f10: 1.88 seconds\n"
     ]
    }
   ],
   "source": [
    "task1_train_features()"
   ]
  },
  {
   "cell_type": "code",
   "execution_count": 12,
   "metadata": {
    "id": "FImr9uO8CMvz"
   },
   "outputs": [],
   "source": [
    "def task1_test_features():\n",
    "    \"\"\"\n",
    "    Evaluate saved classifiers (f1 to f10) on corresponding test datasets (D1 to D10).\n",
    "    - Each model is tested on its corresponding datasets up to the training iteration (e.g., f5 is tested on D1 to D5).\n",
    "    - Accuracy results are recorded in a matrix.\n",
    "    - Log time taken for each testing step.\n",
    "    - Plot the accuracy matrix as a heatmap.\n",
    "\n",
    "    Returns:\n",
    "        None\n",
    "    \"\"\"\n",
    "    # Directory containing the pre-extracted feature datasets for evaluation\n",
    "    feature_dir = \"/content/drive/MyDrive/part_one_dataset/eb3_extracted_features/eval\"\n",
    "    timings = []  # List to store time taken for each model's evaluation\n",
    "    accuracy_matrix = np.zeros((10, 10))  # Initialize a 10x10 accuracy matrix\n",
    "\n",
    "    # Loop through models f1 to f10\n",
    "    for i in range(1, 11):\n",
    "        start_time = time.time()  # Start timer for the testing step\n",
    "\n",
    "        # Load the saved classifier for model f{i}\n",
    "        model_path = f\"/content/drive/MyDrive/eb3_trained_models/f{i}_features.pkl\"\n",
    "        classifier = load_model(model_path)\n",
    "\n",
    "        # Loop through datasets D1 to D{i} for evaluation\n",
    "        for j in range(1, i + 1):\n",
    "            # Path to the pre-extracted features for dataset D{j}\n",
    "            feature_path = os.path.join(feature_dir, f\"{j}_eval_features.npy\")\n",
    "\n",
    "            # Load the test features and labels for the dataset\n",
    "            features = np.load(feature_path)\n",
    "            labels = torch.load(f'/content/drive/MyDrive/part_one_dataset/eval_data/{j}_eval_data.tar.pth')['targets']\n",
    "\n",
    "            # Predict labels using the trained classifier\n",
    "            predictions = classifier.predict(features)\n",
    "\n",
    "            # Calculate accuracy for the dataset and store it in the matrix\n",
    "            accuracy = accuracy_score(labels, predictions) * 100\n",
    "            accuracy_matrix[i - 1, j - 1] = accuracy\n",
    "            print(f\"Model f{i}, Dataset D{j} - Accuracy: {accuracy:.2f}%\")\n",
    "\n",
    "        # End timer and calculate elapsed time\n",
    "        end_time = time.time()\n",
    "        elapsed_time = end_time - start_time\n",
    "        timings.append((i, elapsed_time))\n",
    "        print(f\"Time taken to test model f{i}: {elapsed_time:.2f} seconds\")\n",
    "\n",
    "    # Plotting the accuracy matrix as a heatmap\n",
    "    plt.figure(figsize=(10, 8))  # Set figure size for better readability\n",
    "    sns.heatmap(\n",
    "        accuracy_matrix,\n",
    "        annot=True,  # Annotate each cell with its accuracy value\n",
    "        fmt=\".2f\",  # Format to two decimal places\n",
    "        cmap=\"viridis\",  # Use a visually appealing color map\n",
    "        xticklabels=[f\"D{j}\" for j in range(1, 11)],  # Label x-axis with datasets\n",
    "        yticklabels=[f\"f{i}\" for i in range(1, 11)],  # Label y-axis with models\n",
    "    )\n",
    "    plt.title(\"Accuracy Matrix for Test Data\")  # Add a title to the plot\n",
    "    plt.xlabel(\"Dataset\")  # Label the x-axis\n",
    "    plt.ylabel(\"Model\")  # Label the y-axis\n",
    "    plt.tight_layout()  # Adjust layout for better spacing\n",
    "    plt.show()\n",
    "\n",
    "    # Optionally return results (commented for now)\n",
    "    # return accuracy_matrix, timings\n"
   ]
  },
  {
   "cell_type": "code",
   "execution_count": 13,
   "metadata": {
    "colab": {
     "base_uri": "https://localhost:8080/",
     "height": 1000
    },
    "id": "wBw8I3nYJHpB",
    "outputId": "33f537a0-f96c-4ece-e87c-45526c7c9b64"
   },
   "outputs": [
    {
     "name": "stderr",
     "output_type": "stream",
     "text": [
      "<ipython-input-12-254dafa7e500>:26: FutureWarning: You are using `torch.load` with `weights_only=False` (the current default value), which uses the default pickle module implicitly. It is possible to construct malicious pickle data which will execute arbitrary code during unpickling (See https://github.com/pytorch/pytorch/blob/main/SECURITY.md#untrusted-models for more details). In a future release, the default value for `weights_only` will be flipped to `True`. This limits the functions that could be executed during unpickling. Arbitrary objects will no longer be allowed to be loaded via this mode unless they are explicitly allowlisted by the user via `torch.serialization.add_safe_globals`. We recommend you start setting `weights_only=True` for any use case where you don't have full control of the loaded file. Please open an issue on GitHub for any issues related to this experimental feature.\n",
      "  labels = torch.load(f'/content/drive/MyDrive/part_one_dataset/eval_data/{j}_eval_data.tar.pth')['targets']\n"
     ]
    },
    {
     "name": "stdout",
     "output_type": "stream",
     "text": [
      "Model f1, Dataset D1 - Accuracy: 87.92%\n",
      "Time taken to test model f1: 2.71 seconds\n"
     ]
    },
    {
     "name": "stderr",
     "output_type": "stream",
     "text": [
      "<ipython-input-12-254dafa7e500>:26: FutureWarning: You are using `torch.load` with `weights_only=False` (the current default value), which uses the default pickle module implicitly. It is possible to construct malicious pickle data which will execute arbitrary code during unpickling (See https://github.com/pytorch/pytorch/blob/main/SECURITY.md#untrusted-models for more details). In a future release, the default value for `weights_only` will be flipped to `True`. This limits the functions that could be executed during unpickling. Arbitrary objects will no longer be allowed to be loaded via this mode unless they are explicitly allowlisted by the user via `torch.serialization.add_safe_globals`. We recommend you start setting `weights_only=True` for any use case where you don't have full control of the loaded file. Please open an issue on GitHub for any issues related to this experimental feature.\n",
      "  labels = torch.load(f'/content/drive/MyDrive/part_one_dataset/eval_data/{j}_eval_data.tar.pth')['targets']\n"
     ]
    },
    {
     "name": "stdout",
     "output_type": "stream",
     "text": [
      "Model f2, Dataset D1 - Accuracy: 88.08%\n"
     ]
    },
    {
     "name": "stderr",
     "output_type": "stream",
     "text": [
      "<ipython-input-12-254dafa7e500>:26: FutureWarning: You are using `torch.load` with `weights_only=False` (the current default value), which uses the default pickle module implicitly. It is possible to construct malicious pickle data which will execute arbitrary code during unpickling (See https://github.com/pytorch/pytorch/blob/main/SECURITY.md#untrusted-models for more details). In a future release, the default value for `weights_only` will be flipped to `True`. This limits the functions that could be executed during unpickling. Arbitrary objects will no longer be allowed to be loaded via this mode unless they are explicitly allowlisted by the user via `torch.serialization.add_safe_globals`. We recommend you start setting `weights_only=True` for any use case where you don't have full control of the loaded file. Please open an issue on GitHub for any issues related to this experimental feature.\n",
      "  labels = torch.load(f'/content/drive/MyDrive/part_one_dataset/eval_data/{j}_eval_data.tar.pth')['targets']\n"
     ]
    },
    {
     "name": "stdout",
     "output_type": "stream",
     "text": [
      "Model f2, Dataset D2 - Accuracy: 89.60%\n",
      "Time taken to test model f2: 2.99 seconds\n"
     ]
    },
    {
     "name": "stderr",
     "output_type": "stream",
     "text": [
      "<ipython-input-12-254dafa7e500>:26: FutureWarning: You are using `torch.load` with `weights_only=False` (the current default value), which uses the default pickle module implicitly. It is possible to construct malicious pickle data which will execute arbitrary code during unpickling (See https://github.com/pytorch/pytorch/blob/main/SECURITY.md#untrusted-models for more details). In a future release, the default value for `weights_only` will be flipped to `True`. This limits the functions that could be executed during unpickling. Arbitrary objects will no longer be allowed to be loaded via this mode unless they are explicitly allowlisted by the user via `torch.serialization.add_safe_globals`. We recommend you start setting `weights_only=True` for any use case where you don't have full control of the loaded file. Please open an issue on GitHub for any issues related to this experimental feature.\n",
      "  labels = torch.load(f'/content/drive/MyDrive/part_one_dataset/eval_data/{j}_eval_data.tar.pth')['targets']\n"
     ]
    },
    {
     "name": "stdout",
     "output_type": "stream",
     "text": [
      "Model f3, Dataset D1 - Accuracy: 87.88%\n"
     ]
    },
    {
     "name": "stderr",
     "output_type": "stream",
     "text": [
      "<ipython-input-12-254dafa7e500>:26: FutureWarning: You are using `torch.load` with `weights_only=False` (the current default value), which uses the default pickle module implicitly. It is possible to construct malicious pickle data which will execute arbitrary code during unpickling (See https://github.com/pytorch/pytorch/blob/main/SECURITY.md#untrusted-models for more details). In a future release, the default value for `weights_only` will be flipped to `True`. This limits the functions that could be executed during unpickling. Arbitrary objects will no longer be allowed to be loaded via this mode unless they are explicitly allowlisted by the user via `torch.serialization.add_safe_globals`. We recommend you start setting `weights_only=True` for any use case where you don't have full control of the loaded file. Please open an issue on GitHub for any issues related to this experimental feature.\n",
      "  labels = torch.load(f'/content/drive/MyDrive/part_one_dataset/eval_data/{j}_eval_data.tar.pth')['targets']\n"
     ]
    },
    {
     "name": "stdout",
     "output_type": "stream",
     "text": [
      "Model f3, Dataset D2 - Accuracy: 89.08%\n"
     ]
    },
    {
     "name": "stderr",
     "output_type": "stream",
     "text": [
      "<ipython-input-12-254dafa7e500>:26: FutureWarning: You are using `torch.load` with `weights_only=False` (the current default value), which uses the default pickle module implicitly. It is possible to construct malicious pickle data which will execute arbitrary code during unpickling (See https://github.com/pytorch/pytorch/blob/main/SECURITY.md#untrusted-models for more details). In a future release, the default value for `weights_only` will be flipped to `True`. This limits the functions that could be executed during unpickling. Arbitrary objects will no longer be allowed to be loaded via this mode unless they are explicitly allowlisted by the user via `torch.serialization.add_safe_globals`. We recommend you start setting `weights_only=True` for any use case where you don't have full control of the loaded file. Please open an issue on GitHub for any issues related to this experimental feature.\n",
      "  labels = torch.load(f'/content/drive/MyDrive/part_one_dataset/eval_data/{j}_eval_data.tar.pth')['targets']\n"
     ]
    },
    {
     "name": "stdout",
     "output_type": "stream",
     "text": [
      "Model f3, Dataset D3 - Accuracy: 89.12%\n",
      "Time taken to test model f3: 3.10 seconds\n"
     ]
    },
    {
     "name": "stderr",
     "output_type": "stream",
     "text": [
      "<ipython-input-12-254dafa7e500>:26: FutureWarning: You are using `torch.load` with `weights_only=False` (the current default value), which uses the default pickle module implicitly. It is possible to construct malicious pickle data which will execute arbitrary code during unpickling (See https://github.com/pytorch/pytorch/blob/main/SECURITY.md#untrusted-models for more details). In a future release, the default value for `weights_only` will be flipped to `True`. This limits the functions that could be executed during unpickling. Arbitrary objects will no longer be allowed to be loaded via this mode unless they are explicitly allowlisted by the user via `torch.serialization.add_safe_globals`. We recommend you start setting `weights_only=True` for any use case where you don't have full control of the loaded file. Please open an issue on GitHub for any issues related to this experimental feature.\n",
      "  labels = torch.load(f'/content/drive/MyDrive/part_one_dataset/eval_data/{j}_eval_data.tar.pth')['targets']\n"
     ]
    },
    {
     "name": "stdout",
     "output_type": "stream",
     "text": [
      "Model f4, Dataset D1 - Accuracy: 87.80%\n"
     ]
    },
    {
     "name": "stderr",
     "output_type": "stream",
     "text": [
      "<ipython-input-12-254dafa7e500>:26: FutureWarning: You are using `torch.load` with `weights_only=False` (the current default value), which uses the default pickle module implicitly. It is possible to construct malicious pickle data which will execute arbitrary code during unpickling (See https://github.com/pytorch/pytorch/blob/main/SECURITY.md#untrusted-models for more details). In a future release, the default value for `weights_only` will be flipped to `True`. This limits the functions that could be executed during unpickling. Arbitrary objects will no longer be allowed to be loaded via this mode unless they are explicitly allowlisted by the user via `torch.serialization.add_safe_globals`. We recommend you start setting `weights_only=True` for any use case where you don't have full control of the loaded file. Please open an issue on GitHub for any issues related to this experimental feature.\n",
      "  labels = torch.load(f'/content/drive/MyDrive/part_one_dataset/eval_data/{j}_eval_data.tar.pth')['targets']\n"
     ]
    },
    {
     "name": "stdout",
     "output_type": "stream",
     "text": [
      "Model f4, Dataset D2 - Accuracy: 89.20%\n"
     ]
    },
    {
     "name": "stderr",
     "output_type": "stream",
     "text": [
      "<ipython-input-12-254dafa7e500>:26: FutureWarning: You are using `torch.load` with `weights_only=False` (the current default value), which uses the default pickle module implicitly. It is possible to construct malicious pickle data which will execute arbitrary code during unpickling (See https://github.com/pytorch/pytorch/blob/main/SECURITY.md#untrusted-models for more details). In a future release, the default value for `weights_only` will be flipped to `True`. This limits the functions that could be executed during unpickling. Arbitrary objects will no longer be allowed to be loaded via this mode unless they are explicitly allowlisted by the user via `torch.serialization.add_safe_globals`. We recommend you start setting `weights_only=True` for any use case where you don't have full control of the loaded file. Please open an issue on GitHub for any issues related to this experimental feature.\n",
      "  labels = torch.load(f'/content/drive/MyDrive/part_one_dataset/eval_data/{j}_eval_data.tar.pth')['targets']\n"
     ]
    },
    {
     "name": "stdout",
     "output_type": "stream",
     "text": [
      "Model f4, Dataset D3 - Accuracy: 88.64%\n"
     ]
    },
    {
     "name": "stderr",
     "output_type": "stream",
     "text": [
      "<ipython-input-12-254dafa7e500>:26: FutureWarning: You are using `torch.load` with `weights_only=False` (the current default value), which uses the default pickle module implicitly. It is possible to construct malicious pickle data which will execute arbitrary code during unpickling (See https://github.com/pytorch/pytorch/blob/main/SECURITY.md#untrusted-models for more details). In a future release, the default value for `weights_only` will be flipped to `True`. This limits the functions that could be executed during unpickling. Arbitrary objects will no longer be allowed to be loaded via this mode unless they are explicitly allowlisted by the user via `torch.serialization.add_safe_globals`. We recommend you start setting `weights_only=True` for any use case where you don't have full control of the loaded file. Please open an issue on GitHub for any issues related to this experimental feature.\n",
      "  labels = torch.load(f'/content/drive/MyDrive/part_one_dataset/eval_data/{j}_eval_data.tar.pth')['targets']\n"
     ]
    },
    {
     "name": "stdout",
     "output_type": "stream",
     "text": [
      "Model f4, Dataset D4 - Accuracy: 89.04%\n",
      "Time taken to test model f4: 4.77 seconds\n"
     ]
    },
    {
     "name": "stderr",
     "output_type": "stream",
     "text": [
      "<ipython-input-12-254dafa7e500>:26: FutureWarning: You are using `torch.load` with `weights_only=False` (the current default value), which uses the default pickle module implicitly. It is possible to construct malicious pickle data which will execute arbitrary code during unpickling (See https://github.com/pytorch/pytorch/blob/main/SECURITY.md#untrusted-models for more details). In a future release, the default value for `weights_only` will be flipped to `True`. This limits the functions that could be executed during unpickling. Arbitrary objects will no longer be allowed to be loaded via this mode unless they are explicitly allowlisted by the user via `torch.serialization.add_safe_globals`. We recommend you start setting `weights_only=True` for any use case where you don't have full control of the loaded file. Please open an issue on GitHub for any issues related to this experimental feature.\n",
      "  labels = torch.load(f'/content/drive/MyDrive/part_one_dataset/eval_data/{j}_eval_data.tar.pth')['targets']\n"
     ]
    },
    {
     "name": "stdout",
     "output_type": "stream",
     "text": [
      "Model f5, Dataset D1 - Accuracy: 86.80%\n"
     ]
    },
    {
     "name": "stderr",
     "output_type": "stream",
     "text": [
      "<ipython-input-12-254dafa7e500>:26: FutureWarning: You are using `torch.load` with `weights_only=False` (the current default value), which uses the default pickle module implicitly. It is possible to construct malicious pickle data which will execute arbitrary code during unpickling (See https://github.com/pytorch/pytorch/blob/main/SECURITY.md#untrusted-models for more details). In a future release, the default value for `weights_only` will be flipped to `True`. This limits the functions that could be executed during unpickling. Arbitrary objects will no longer be allowed to be loaded via this mode unless they are explicitly allowlisted by the user via `torch.serialization.add_safe_globals`. We recommend you start setting `weights_only=True` for any use case where you don't have full control of the loaded file. Please open an issue on GitHub for any issues related to this experimental feature.\n",
      "  labels = torch.load(f'/content/drive/MyDrive/part_one_dataset/eval_data/{j}_eval_data.tar.pth')['targets']\n"
     ]
    },
    {
     "name": "stdout",
     "output_type": "stream",
     "text": [
      "Model f5, Dataset D2 - Accuracy: 88.68%\n"
     ]
    },
    {
     "name": "stderr",
     "output_type": "stream",
     "text": [
      "<ipython-input-12-254dafa7e500>:26: FutureWarning: You are using `torch.load` with `weights_only=False` (the current default value), which uses the default pickle module implicitly. It is possible to construct malicious pickle data which will execute arbitrary code during unpickling (See https://github.com/pytorch/pytorch/blob/main/SECURITY.md#untrusted-models for more details). In a future release, the default value for `weights_only` will be flipped to `True`. This limits the functions that could be executed during unpickling. Arbitrary objects will no longer be allowed to be loaded via this mode unless they are explicitly allowlisted by the user via `torch.serialization.add_safe_globals`. We recommend you start setting `weights_only=True` for any use case where you don't have full control of the loaded file. Please open an issue on GitHub for any issues related to this experimental feature.\n",
      "  labels = torch.load(f'/content/drive/MyDrive/part_one_dataset/eval_data/{j}_eval_data.tar.pth')['targets']\n"
     ]
    },
    {
     "name": "stdout",
     "output_type": "stream",
     "text": [
      "Model f5, Dataset D3 - Accuracy: 87.92%\n"
     ]
    },
    {
     "name": "stderr",
     "output_type": "stream",
     "text": [
      "<ipython-input-12-254dafa7e500>:26: FutureWarning: You are using `torch.load` with `weights_only=False` (the current default value), which uses the default pickle module implicitly. It is possible to construct malicious pickle data which will execute arbitrary code during unpickling (See https://github.com/pytorch/pytorch/blob/main/SECURITY.md#untrusted-models for more details). In a future release, the default value for `weights_only` will be flipped to `True`. This limits the functions that could be executed during unpickling. Arbitrary objects will no longer be allowed to be loaded via this mode unless they are explicitly allowlisted by the user via `torch.serialization.add_safe_globals`. We recommend you start setting `weights_only=True` for any use case where you don't have full control of the loaded file. Please open an issue on GitHub for any issues related to this experimental feature.\n",
      "  labels = torch.load(f'/content/drive/MyDrive/part_one_dataset/eval_data/{j}_eval_data.tar.pth')['targets']\n"
     ]
    },
    {
     "name": "stdout",
     "output_type": "stream",
     "text": [
      "Model f5, Dataset D4 - Accuracy: 88.16%\n"
     ]
    },
    {
     "name": "stderr",
     "output_type": "stream",
     "text": [
      "<ipython-input-12-254dafa7e500>:26: FutureWarning: You are using `torch.load` with `weights_only=False` (the current default value), which uses the default pickle module implicitly. It is possible to construct malicious pickle data which will execute arbitrary code during unpickling (See https://github.com/pytorch/pytorch/blob/main/SECURITY.md#untrusted-models for more details). In a future release, the default value for `weights_only` will be flipped to `True`. This limits the functions that could be executed during unpickling. Arbitrary objects will no longer be allowed to be loaded via this mode unless they are explicitly allowlisted by the user via `torch.serialization.add_safe_globals`. We recommend you start setting `weights_only=True` for any use case where you don't have full control of the loaded file. Please open an issue on GitHub for any issues related to this experimental feature.\n",
      "  labels = torch.load(f'/content/drive/MyDrive/part_one_dataset/eval_data/{j}_eval_data.tar.pth')['targets']\n"
     ]
    },
    {
     "name": "stdout",
     "output_type": "stream",
     "text": [
      "Model f5, Dataset D5 - Accuracy: 87.48%\n",
      "Time taken to test model f5: 4.09 seconds\n"
     ]
    },
    {
     "name": "stderr",
     "output_type": "stream",
     "text": [
      "<ipython-input-12-254dafa7e500>:26: FutureWarning: You are using `torch.load` with `weights_only=False` (the current default value), which uses the default pickle module implicitly. It is possible to construct malicious pickle data which will execute arbitrary code during unpickling (See https://github.com/pytorch/pytorch/blob/main/SECURITY.md#untrusted-models for more details). In a future release, the default value for `weights_only` will be flipped to `True`. This limits the functions that could be executed during unpickling. Arbitrary objects will no longer be allowed to be loaded via this mode unless they are explicitly allowlisted by the user via `torch.serialization.add_safe_globals`. We recommend you start setting `weights_only=True` for any use case where you don't have full control of the loaded file. Please open an issue on GitHub for any issues related to this experimental feature.\n",
      "  labels = torch.load(f'/content/drive/MyDrive/part_one_dataset/eval_data/{j}_eval_data.tar.pth')['targets']\n"
     ]
    },
    {
     "name": "stdout",
     "output_type": "stream",
     "text": [
      "Model f6, Dataset D1 - Accuracy: 86.04%\n"
     ]
    },
    {
     "name": "stderr",
     "output_type": "stream",
     "text": [
      "<ipython-input-12-254dafa7e500>:26: FutureWarning: You are using `torch.load` with `weights_only=False` (the current default value), which uses the default pickle module implicitly. It is possible to construct malicious pickle data which will execute arbitrary code during unpickling (See https://github.com/pytorch/pytorch/blob/main/SECURITY.md#untrusted-models for more details). In a future release, the default value for `weights_only` will be flipped to `True`. This limits the functions that could be executed during unpickling. Arbitrary objects will no longer be allowed to be loaded via this mode unless they are explicitly allowlisted by the user via `torch.serialization.add_safe_globals`. We recommend you start setting `weights_only=True` for any use case where you don't have full control of the loaded file. Please open an issue on GitHub for any issues related to this experimental feature.\n",
      "  labels = torch.load(f'/content/drive/MyDrive/part_one_dataset/eval_data/{j}_eval_data.tar.pth')['targets']\n"
     ]
    },
    {
     "name": "stdout",
     "output_type": "stream",
     "text": [
      "Model f6, Dataset D2 - Accuracy: 88.28%\n"
     ]
    },
    {
     "name": "stderr",
     "output_type": "stream",
     "text": [
      "<ipython-input-12-254dafa7e500>:26: FutureWarning: You are using `torch.load` with `weights_only=False` (the current default value), which uses the default pickle module implicitly. It is possible to construct malicious pickle data which will execute arbitrary code during unpickling (See https://github.com/pytorch/pytorch/blob/main/SECURITY.md#untrusted-models for more details). In a future release, the default value for `weights_only` will be flipped to `True`. This limits the functions that could be executed during unpickling. Arbitrary objects will no longer be allowed to be loaded via this mode unless they are explicitly allowlisted by the user via `torch.serialization.add_safe_globals`. We recommend you start setting `weights_only=True` for any use case where you don't have full control of the loaded file. Please open an issue on GitHub for any issues related to this experimental feature.\n",
      "  labels = torch.load(f'/content/drive/MyDrive/part_one_dataset/eval_data/{j}_eval_data.tar.pth')['targets']\n"
     ]
    },
    {
     "name": "stdout",
     "output_type": "stream",
     "text": [
      "Model f6, Dataset D3 - Accuracy: 87.88%\n"
     ]
    },
    {
     "name": "stderr",
     "output_type": "stream",
     "text": [
      "<ipython-input-12-254dafa7e500>:26: FutureWarning: You are using `torch.load` with `weights_only=False` (the current default value), which uses the default pickle module implicitly. It is possible to construct malicious pickle data which will execute arbitrary code during unpickling (See https://github.com/pytorch/pytorch/blob/main/SECURITY.md#untrusted-models for more details). In a future release, the default value for `weights_only` will be flipped to `True`. This limits the functions that could be executed during unpickling. Arbitrary objects will no longer be allowed to be loaded via this mode unless they are explicitly allowlisted by the user via `torch.serialization.add_safe_globals`. We recommend you start setting `weights_only=True` for any use case where you don't have full control of the loaded file. Please open an issue on GitHub for any issues related to this experimental feature.\n",
      "  labels = torch.load(f'/content/drive/MyDrive/part_one_dataset/eval_data/{j}_eval_data.tar.pth')['targets']\n"
     ]
    },
    {
     "name": "stdout",
     "output_type": "stream",
     "text": [
      "Model f6, Dataset D4 - Accuracy: 87.88%\n"
     ]
    },
    {
     "name": "stderr",
     "output_type": "stream",
     "text": [
      "<ipython-input-12-254dafa7e500>:26: FutureWarning: You are using `torch.load` with `weights_only=False` (the current default value), which uses the default pickle module implicitly. It is possible to construct malicious pickle data which will execute arbitrary code during unpickling (See https://github.com/pytorch/pytorch/blob/main/SECURITY.md#untrusted-models for more details). In a future release, the default value for `weights_only` will be flipped to `True`. This limits the functions that could be executed during unpickling. Arbitrary objects will no longer be allowed to be loaded via this mode unless they are explicitly allowlisted by the user via `torch.serialization.add_safe_globals`. We recommend you start setting `weights_only=True` for any use case where you don't have full control of the loaded file. Please open an issue on GitHub for any issues related to this experimental feature.\n",
      "  labels = torch.load(f'/content/drive/MyDrive/part_one_dataset/eval_data/{j}_eval_data.tar.pth')['targets']\n"
     ]
    },
    {
     "name": "stdout",
     "output_type": "stream",
     "text": [
      "Model f6, Dataset D5 - Accuracy: 86.76%\n"
     ]
    },
    {
     "name": "stderr",
     "output_type": "stream",
     "text": [
      "<ipython-input-12-254dafa7e500>:26: FutureWarning: You are using `torch.load` with `weights_only=False` (the current default value), which uses the default pickle module implicitly. It is possible to construct malicious pickle data which will execute arbitrary code during unpickling (See https://github.com/pytorch/pytorch/blob/main/SECURITY.md#untrusted-models for more details). In a future release, the default value for `weights_only` will be flipped to `True`. This limits the functions that could be executed during unpickling. Arbitrary objects will no longer be allowed to be loaded via this mode unless they are explicitly allowlisted by the user via `torch.serialization.add_safe_globals`. We recommend you start setting `weights_only=True` for any use case where you don't have full control of the loaded file. Please open an issue on GitHub for any issues related to this experimental feature.\n",
      "  labels = torch.load(f'/content/drive/MyDrive/part_one_dataset/eval_data/{j}_eval_data.tar.pth')['targets']\n"
     ]
    },
    {
     "name": "stdout",
     "output_type": "stream",
     "text": [
      "Model f6, Dataset D6 - Accuracy: 87.80%\n",
      "Time taken to test model f6: 4.02 seconds\n"
     ]
    },
    {
     "name": "stderr",
     "output_type": "stream",
     "text": [
      "<ipython-input-12-254dafa7e500>:26: FutureWarning: You are using `torch.load` with `weights_only=False` (the current default value), which uses the default pickle module implicitly. It is possible to construct malicious pickle data which will execute arbitrary code during unpickling (See https://github.com/pytorch/pytorch/blob/main/SECURITY.md#untrusted-models for more details). In a future release, the default value for `weights_only` will be flipped to `True`. This limits the functions that could be executed during unpickling. Arbitrary objects will no longer be allowed to be loaded via this mode unless they are explicitly allowlisted by the user via `torch.serialization.add_safe_globals`. We recommend you start setting `weights_only=True` for any use case where you don't have full control of the loaded file. Please open an issue on GitHub for any issues related to this experimental feature.\n",
      "  labels = torch.load(f'/content/drive/MyDrive/part_one_dataset/eval_data/{j}_eval_data.tar.pth')['targets']\n"
     ]
    },
    {
     "name": "stdout",
     "output_type": "stream",
     "text": [
      "Model f7, Dataset D1 - Accuracy: 86.36%\n"
     ]
    },
    {
     "name": "stderr",
     "output_type": "stream",
     "text": [
      "<ipython-input-12-254dafa7e500>:26: FutureWarning: You are using `torch.load` with `weights_only=False` (the current default value), which uses the default pickle module implicitly. It is possible to construct malicious pickle data which will execute arbitrary code during unpickling (See https://github.com/pytorch/pytorch/blob/main/SECURITY.md#untrusted-models for more details). In a future release, the default value for `weights_only` will be flipped to `True`. This limits the functions that could be executed during unpickling. Arbitrary objects will no longer be allowed to be loaded via this mode unless they are explicitly allowlisted by the user via `torch.serialization.add_safe_globals`. We recommend you start setting `weights_only=True` for any use case where you don't have full control of the loaded file. Please open an issue on GitHub for any issues related to this experimental feature.\n",
      "  labels = torch.load(f'/content/drive/MyDrive/part_one_dataset/eval_data/{j}_eval_data.tar.pth')['targets']\n"
     ]
    },
    {
     "name": "stdout",
     "output_type": "stream",
     "text": [
      "Model f7, Dataset D2 - Accuracy: 87.88%\n"
     ]
    },
    {
     "name": "stderr",
     "output_type": "stream",
     "text": [
      "<ipython-input-12-254dafa7e500>:26: FutureWarning: You are using `torch.load` with `weights_only=False` (the current default value), which uses the default pickle module implicitly. It is possible to construct malicious pickle data which will execute arbitrary code during unpickling (See https://github.com/pytorch/pytorch/blob/main/SECURITY.md#untrusted-models for more details). In a future release, the default value for `weights_only` will be flipped to `True`. This limits the functions that could be executed during unpickling. Arbitrary objects will no longer be allowed to be loaded via this mode unless they are explicitly allowlisted by the user via `torch.serialization.add_safe_globals`. We recommend you start setting `weights_only=True` for any use case where you don't have full control of the loaded file. Please open an issue on GitHub for any issues related to this experimental feature.\n",
      "  labels = torch.load(f'/content/drive/MyDrive/part_one_dataset/eval_data/{j}_eval_data.tar.pth')['targets']\n"
     ]
    },
    {
     "name": "stdout",
     "output_type": "stream",
     "text": [
      "Model f7, Dataset D3 - Accuracy: 87.88%\n"
     ]
    },
    {
     "name": "stderr",
     "output_type": "stream",
     "text": [
      "<ipython-input-12-254dafa7e500>:26: FutureWarning: You are using `torch.load` with `weights_only=False` (the current default value), which uses the default pickle module implicitly. It is possible to construct malicious pickle data which will execute arbitrary code during unpickling (See https://github.com/pytorch/pytorch/blob/main/SECURITY.md#untrusted-models for more details). In a future release, the default value for `weights_only` will be flipped to `True`. This limits the functions that could be executed during unpickling. Arbitrary objects will no longer be allowed to be loaded via this mode unless they are explicitly allowlisted by the user via `torch.serialization.add_safe_globals`. We recommend you start setting `weights_only=True` for any use case where you don't have full control of the loaded file. Please open an issue on GitHub for any issues related to this experimental feature.\n",
      "  labels = torch.load(f'/content/drive/MyDrive/part_one_dataset/eval_data/{j}_eval_data.tar.pth')['targets']\n"
     ]
    },
    {
     "name": "stdout",
     "output_type": "stream",
     "text": [
      "Model f7, Dataset D4 - Accuracy: 87.64%\n"
     ]
    },
    {
     "name": "stderr",
     "output_type": "stream",
     "text": [
      "<ipython-input-12-254dafa7e500>:26: FutureWarning: You are using `torch.load` with `weights_only=False` (the current default value), which uses the default pickle module implicitly. It is possible to construct malicious pickle data which will execute arbitrary code during unpickling (See https://github.com/pytorch/pytorch/blob/main/SECURITY.md#untrusted-models for more details). In a future release, the default value for `weights_only` will be flipped to `True`. This limits the functions that could be executed during unpickling. Arbitrary objects will no longer be allowed to be loaded via this mode unless they are explicitly allowlisted by the user via `torch.serialization.add_safe_globals`. We recommend you start setting `weights_only=True` for any use case where you don't have full control of the loaded file. Please open an issue on GitHub for any issues related to this experimental feature.\n",
      "  labels = torch.load(f'/content/drive/MyDrive/part_one_dataset/eval_data/{j}_eval_data.tar.pth')['targets']\n"
     ]
    },
    {
     "name": "stdout",
     "output_type": "stream",
     "text": [
      "Model f7, Dataset D5 - Accuracy: 87.00%\n"
     ]
    },
    {
     "name": "stderr",
     "output_type": "stream",
     "text": [
      "<ipython-input-12-254dafa7e500>:26: FutureWarning: You are using `torch.load` with `weights_only=False` (the current default value), which uses the default pickle module implicitly. It is possible to construct malicious pickle data which will execute arbitrary code during unpickling (See https://github.com/pytorch/pytorch/blob/main/SECURITY.md#untrusted-models for more details). In a future release, the default value for `weights_only` will be flipped to `True`. This limits the functions that could be executed during unpickling. Arbitrary objects will no longer be allowed to be loaded via this mode unless they are explicitly allowlisted by the user via `torch.serialization.add_safe_globals`. We recommend you start setting `weights_only=True` for any use case where you don't have full control of the loaded file. Please open an issue on GitHub for any issues related to this experimental feature.\n",
      "  labels = torch.load(f'/content/drive/MyDrive/part_one_dataset/eval_data/{j}_eval_data.tar.pth')['targets']\n"
     ]
    },
    {
     "name": "stdout",
     "output_type": "stream",
     "text": [
      "Model f7, Dataset D6 - Accuracy: 87.92%\n"
     ]
    },
    {
     "name": "stderr",
     "output_type": "stream",
     "text": [
      "<ipython-input-12-254dafa7e500>:26: FutureWarning: You are using `torch.load` with `weights_only=False` (the current default value), which uses the default pickle module implicitly. It is possible to construct malicious pickle data which will execute arbitrary code during unpickling (See https://github.com/pytorch/pytorch/blob/main/SECURITY.md#untrusted-models for more details). In a future release, the default value for `weights_only` will be flipped to `True`. This limits the functions that could be executed during unpickling. Arbitrary objects will no longer be allowed to be loaded via this mode unless they are explicitly allowlisted by the user via `torch.serialization.add_safe_globals`. We recommend you start setting `weights_only=True` for any use case where you don't have full control of the loaded file. Please open an issue on GitHub for any issues related to this experimental feature.\n",
      "  labels = torch.load(f'/content/drive/MyDrive/part_one_dataset/eval_data/{j}_eval_data.tar.pth')['targets']\n"
     ]
    },
    {
     "name": "stdout",
     "output_type": "stream",
     "text": [
      "Model f7, Dataset D7 - Accuracy: 86.52%\n",
      "Time taken to test model f7: 4.45 seconds\n"
     ]
    },
    {
     "name": "stderr",
     "output_type": "stream",
     "text": [
      "<ipython-input-12-254dafa7e500>:26: FutureWarning: You are using `torch.load` with `weights_only=False` (the current default value), which uses the default pickle module implicitly. It is possible to construct malicious pickle data which will execute arbitrary code during unpickling (See https://github.com/pytorch/pytorch/blob/main/SECURITY.md#untrusted-models for more details). In a future release, the default value for `weights_only` will be flipped to `True`. This limits the functions that could be executed during unpickling. Arbitrary objects will no longer be allowed to be loaded via this mode unless they are explicitly allowlisted by the user via `torch.serialization.add_safe_globals`. We recommend you start setting `weights_only=True` for any use case where you don't have full control of the loaded file. Please open an issue on GitHub for any issues related to this experimental feature.\n",
      "  labels = torch.load(f'/content/drive/MyDrive/part_one_dataset/eval_data/{j}_eval_data.tar.pth')['targets']\n"
     ]
    },
    {
     "name": "stdout",
     "output_type": "stream",
     "text": [
      "Model f8, Dataset D1 - Accuracy: 86.40%\n"
     ]
    },
    {
     "name": "stderr",
     "output_type": "stream",
     "text": [
      "<ipython-input-12-254dafa7e500>:26: FutureWarning: You are using `torch.load` with `weights_only=False` (the current default value), which uses the default pickle module implicitly. It is possible to construct malicious pickle data which will execute arbitrary code during unpickling (See https://github.com/pytorch/pytorch/blob/main/SECURITY.md#untrusted-models for more details). In a future release, the default value for `weights_only` will be flipped to `True`. This limits the functions that could be executed during unpickling. Arbitrary objects will no longer be allowed to be loaded via this mode unless they are explicitly allowlisted by the user via `torch.serialization.add_safe_globals`. We recommend you start setting `weights_only=True` for any use case where you don't have full control of the loaded file. Please open an issue on GitHub for any issues related to this experimental feature.\n",
      "  labels = torch.load(f'/content/drive/MyDrive/part_one_dataset/eval_data/{j}_eval_data.tar.pth')['targets']\n"
     ]
    },
    {
     "name": "stdout",
     "output_type": "stream",
     "text": [
      "Model f8, Dataset D2 - Accuracy: 87.84%\n"
     ]
    },
    {
     "name": "stderr",
     "output_type": "stream",
     "text": [
      "<ipython-input-12-254dafa7e500>:26: FutureWarning: You are using `torch.load` with `weights_only=False` (the current default value), which uses the default pickle module implicitly. It is possible to construct malicious pickle data which will execute arbitrary code during unpickling (See https://github.com/pytorch/pytorch/blob/main/SECURITY.md#untrusted-models for more details). In a future release, the default value for `weights_only` will be flipped to `True`. This limits the functions that could be executed during unpickling. Arbitrary objects will no longer be allowed to be loaded via this mode unless they are explicitly allowlisted by the user via `torch.serialization.add_safe_globals`. We recommend you start setting `weights_only=True` for any use case where you don't have full control of the loaded file. Please open an issue on GitHub for any issues related to this experimental feature.\n",
      "  labels = torch.load(f'/content/drive/MyDrive/part_one_dataset/eval_data/{j}_eval_data.tar.pth')['targets']\n"
     ]
    },
    {
     "name": "stdout",
     "output_type": "stream",
     "text": [
      "Model f8, Dataset D3 - Accuracy: 87.68%\n"
     ]
    },
    {
     "name": "stderr",
     "output_type": "stream",
     "text": [
      "<ipython-input-12-254dafa7e500>:26: FutureWarning: You are using `torch.load` with `weights_only=False` (the current default value), which uses the default pickle module implicitly. It is possible to construct malicious pickle data which will execute arbitrary code during unpickling (See https://github.com/pytorch/pytorch/blob/main/SECURITY.md#untrusted-models for more details). In a future release, the default value for `weights_only` will be flipped to `True`. This limits the functions that could be executed during unpickling. Arbitrary objects will no longer be allowed to be loaded via this mode unless they are explicitly allowlisted by the user via `torch.serialization.add_safe_globals`. We recommend you start setting `weights_only=True` for any use case where you don't have full control of the loaded file. Please open an issue on GitHub for any issues related to this experimental feature.\n",
      "  labels = torch.load(f'/content/drive/MyDrive/part_one_dataset/eval_data/{j}_eval_data.tar.pth')['targets']\n"
     ]
    },
    {
     "name": "stdout",
     "output_type": "stream",
     "text": [
      "Model f8, Dataset D4 - Accuracy: 87.84%\n"
     ]
    },
    {
     "name": "stderr",
     "output_type": "stream",
     "text": [
      "<ipython-input-12-254dafa7e500>:26: FutureWarning: You are using `torch.load` with `weights_only=False` (the current default value), which uses the default pickle module implicitly. It is possible to construct malicious pickle data which will execute arbitrary code during unpickling (See https://github.com/pytorch/pytorch/blob/main/SECURITY.md#untrusted-models for more details). In a future release, the default value for `weights_only` will be flipped to `True`. This limits the functions that could be executed during unpickling. Arbitrary objects will no longer be allowed to be loaded via this mode unless they are explicitly allowlisted by the user via `torch.serialization.add_safe_globals`. We recommend you start setting `weights_only=True` for any use case where you don't have full control of the loaded file. Please open an issue on GitHub for any issues related to this experimental feature.\n",
      "  labels = torch.load(f'/content/drive/MyDrive/part_one_dataset/eval_data/{j}_eval_data.tar.pth')['targets']\n"
     ]
    },
    {
     "name": "stdout",
     "output_type": "stream",
     "text": [
      "Model f8, Dataset D5 - Accuracy: 86.88%\n"
     ]
    },
    {
     "name": "stderr",
     "output_type": "stream",
     "text": [
      "<ipython-input-12-254dafa7e500>:26: FutureWarning: You are using `torch.load` with `weights_only=False` (the current default value), which uses the default pickle module implicitly. It is possible to construct malicious pickle data which will execute arbitrary code during unpickling (See https://github.com/pytorch/pytorch/blob/main/SECURITY.md#untrusted-models for more details). In a future release, the default value for `weights_only` will be flipped to `True`. This limits the functions that could be executed during unpickling. Arbitrary objects will no longer be allowed to be loaded via this mode unless they are explicitly allowlisted by the user via `torch.serialization.add_safe_globals`. We recommend you start setting `weights_only=True` for any use case where you don't have full control of the loaded file. Please open an issue on GitHub for any issues related to this experimental feature.\n",
      "  labels = torch.load(f'/content/drive/MyDrive/part_one_dataset/eval_data/{j}_eval_data.tar.pth')['targets']\n"
     ]
    },
    {
     "name": "stdout",
     "output_type": "stream",
     "text": [
      "Model f8, Dataset D6 - Accuracy: 87.88%\n"
     ]
    },
    {
     "name": "stderr",
     "output_type": "stream",
     "text": [
      "<ipython-input-12-254dafa7e500>:26: FutureWarning: You are using `torch.load` with `weights_only=False` (the current default value), which uses the default pickle module implicitly. It is possible to construct malicious pickle data which will execute arbitrary code during unpickling (See https://github.com/pytorch/pytorch/blob/main/SECURITY.md#untrusted-models for more details). In a future release, the default value for `weights_only` will be flipped to `True`. This limits the functions that could be executed during unpickling. Arbitrary objects will no longer be allowed to be loaded via this mode unless they are explicitly allowlisted by the user via `torch.serialization.add_safe_globals`. We recommend you start setting `weights_only=True` for any use case where you don't have full control of the loaded file. Please open an issue on GitHub for any issues related to this experimental feature.\n",
      "  labels = torch.load(f'/content/drive/MyDrive/part_one_dataset/eval_data/{j}_eval_data.tar.pth')['targets']\n"
     ]
    },
    {
     "name": "stdout",
     "output_type": "stream",
     "text": [
      "Model f8, Dataset D7 - Accuracy: 86.92%\n"
     ]
    },
    {
     "name": "stderr",
     "output_type": "stream",
     "text": [
      "<ipython-input-12-254dafa7e500>:26: FutureWarning: You are using `torch.load` with `weights_only=False` (the current default value), which uses the default pickle module implicitly. It is possible to construct malicious pickle data which will execute arbitrary code during unpickling (See https://github.com/pytorch/pytorch/blob/main/SECURITY.md#untrusted-models for more details). In a future release, the default value for `weights_only` will be flipped to `True`. This limits the functions that could be executed during unpickling. Arbitrary objects will no longer be allowed to be loaded via this mode unless they are explicitly allowlisted by the user via `torch.serialization.add_safe_globals`. We recommend you start setting `weights_only=True` for any use case where you don't have full control of the loaded file. Please open an issue on GitHub for any issues related to this experimental feature.\n",
      "  labels = torch.load(f'/content/drive/MyDrive/part_one_dataset/eval_data/{j}_eval_data.tar.pth')['targets']\n"
     ]
    },
    {
     "name": "stdout",
     "output_type": "stream",
     "text": [
      "Model f8, Dataset D8 - Accuracy: 87.24%\n",
      "Time taken to test model f8: 5.38 seconds\n"
     ]
    },
    {
     "name": "stderr",
     "output_type": "stream",
     "text": [
      "<ipython-input-12-254dafa7e500>:26: FutureWarning: You are using `torch.load` with `weights_only=False` (the current default value), which uses the default pickle module implicitly. It is possible to construct malicious pickle data which will execute arbitrary code during unpickling (See https://github.com/pytorch/pytorch/blob/main/SECURITY.md#untrusted-models for more details). In a future release, the default value for `weights_only` will be flipped to `True`. This limits the functions that could be executed during unpickling. Arbitrary objects will no longer be allowed to be loaded via this mode unless they are explicitly allowlisted by the user via `torch.serialization.add_safe_globals`. We recommend you start setting `weights_only=True` for any use case where you don't have full control of the loaded file. Please open an issue on GitHub for any issues related to this experimental feature.\n",
      "  labels = torch.load(f'/content/drive/MyDrive/part_one_dataset/eval_data/{j}_eval_data.tar.pth')['targets']\n"
     ]
    },
    {
     "name": "stdout",
     "output_type": "stream",
     "text": [
      "Model f9, Dataset D1 - Accuracy: 85.88%\n"
     ]
    },
    {
     "name": "stderr",
     "output_type": "stream",
     "text": [
      "<ipython-input-12-254dafa7e500>:26: FutureWarning: You are using `torch.load` with `weights_only=False` (the current default value), which uses the default pickle module implicitly. It is possible to construct malicious pickle data which will execute arbitrary code during unpickling (See https://github.com/pytorch/pytorch/blob/main/SECURITY.md#untrusted-models for more details). In a future release, the default value for `weights_only` will be flipped to `True`. This limits the functions that could be executed during unpickling. Arbitrary objects will no longer be allowed to be loaded via this mode unless they are explicitly allowlisted by the user via `torch.serialization.add_safe_globals`. We recommend you start setting `weights_only=True` for any use case where you don't have full control of the loaded file. Please open an issue on GitHub for any issues related to this experimental feature.\n",
      "  labels = torch.load(f'/content/drive/MyDrive/part_one_dataset/eval_data/{j}_eval_data.tar.pth')['targets']\n"
     ]
    },
    {
     "name": "stdout",
     "output_type": "stream",
     "text": [
      "Model f9, Dataset D2 - Accuracy: 87.64%\n"
     ]
    },
    {
     "name": "stderr",
     "output_type": "stream",
     "text": [
      "<ipython-input-12-254dafa7e500>:26: FutureWarning: You are using `torch.load` with `weights_only=False` (the current default value), which uses the default pickle module implicitly. It is possible to construct malicious pickle data which will execute arbitrary code during unpickling (See https://github.com/pytorch/pytorch/blob/main/SECURITY.md#untrusted-models for more details). In a future release, the default value for `weights_only` will be flipped to `True`. This limits the functions that could be executed during unpickling. Arbitrary objects will no longer be allowed to be loaded via this mode unless they are explicitly allowlisted by the user via `torch.serialization.add_safe_globals`. We recommend you start setting `weights_only=True` for any use case where you don't have full control of the loaded file. Please open an issue on GitHub for any issues related to this experimental feature.\n",
      "  labels = torch.load(f'/content/drive/MyDrive/part_one_dataset/eval_data/{j}_eval_data.tar.pth')['targets']\n"
     ]
    },
    {
     "name": "stdout",
     "output_type": "stream",
     "text": [
      "Model f9, Dataset D3 - Accuracy: 86.88%\n"
     ]
    },
    {
     "name": "stderr",
     "output_type": "stream",
     "text": [
      "<ipython-input-12-254dafa7e500>:26: FutureWarning: You are using `torch.load` with `weights_only=False` (the current default value), which uses the default pickle module implicitly. It is possible to construct malicious pickle data which will execute arbitrary code during unpickling (See https://github.com/pytorch/pytorch/blob/main/SECURITY.md#untrusted-models for more details). In a future release, the default value for `weights_only` will be flipped to `True`. This limits the functions that could be executed during unpickling. Arbitrary objects will no longer be allowed to be loaded via this mode unless they are explicitly allowlisted by the user via `torch.serialization.add_safe_globals`. We recommend you start setting `weights_only=True` for any use case where you don't have full control of the loaded file. Please open an issue on GitHub for any issues related to this experimental feature.\n",
      "  labels = torch.load(f'/content/drive/MyDrive/part_one_dataset/eval_data/{j}_eval_data.tar.pth')['targets']\n"
     ]
    },
    {
     "name": "stdout",
     "output_type": "stream",
     "text": [
      "Model f9, Dataset D4 - Accuracy: 86.96%\n"
     ]
    },
    {
     "name": "stderr",
     "output_type": "stream",
     "text": [
      "<ipython-input-12-254dafa7e500>:26: FutureWarning: You are using `torch.load` with `weights_only=False` (the current default value), which uses the default pickle module implicitly. It is possible to construct malicious pickle data which will execute arbitrary code during unpickling (See https://github.com/pytorch/pytorch/blob/main/SECURITY.md#untrusted-models for more details). In a future release, the default value for `weights_only` will be flipped to `True`. This limits the functions that could be executed during unpickling. Arbitrary objects will no longer be allowed to be loaded via this mode unless they are explicitly allowlisted by the user via `torch.serialization.add_safe_globals`. We recommend you start setting `weights_only=True` for any use case where you don't have full control of the loaded file. Please open an issue on GitHub for any issues related to this experimental feature.\n",
      "  labels = torch.load(f'/content/drive/MyDrive/part_one_dataset/eval_data/{j}_eval_data.tar.pth')['targets']\n"
     ]
    },
    {
     "name": "stdout",
     "output_type": "stream",
     "text": [
      "Model f9, Dataset D5 - Accuracy: 86.00%\n"
     ]
    },
    {
     "name": "stderr",
     "output_type": "stream",
     "text": [
      "<ipython-input-12-254dafa7e500>:26: FutureWarning: You are using `torch.load` with `weights_only=False` (the current default value), which uses the default pickle module implicitly. It is possible to construct malicious pickle data which will execute arbitrary code during unpickling (See https://github.com/pytorch/pytorch/blob/main/SECURITY.md#untrusted-models for more details). In a future release, the default value for `weights_only` will be flipped to `True`. This limits the functions that could be executed during unpickling. Arbitrary objects will no longer be allowed to be loaded via this mode unless they are explicitly allowlisted by the user via `torch.serialization.add_safe_globals`. We recommend you start setting `weights_only=True` for any use case where you don't have full control of the loaded file. Please open an issue on GitHub for any issues related to this experimental feature.\n",
      "  labels = torch.load(f'/content/drive/MyDrive/part_one_dataset/eval_data/{j}_eval_data.tar.pth')['targets']\n",
      "<ipython-input-12-254dafa7e500>:26: FutureWarning: You are using `torch.load` with `weights_only=False` (the current default value), which uses the default pickle module implicitly. It is possible to construct malicious pickle data which will execute arbitrary code during unpickling (See https://github.com/pytorch/pytorch/blob/main/SECURITY.md#untrusted-models for more details). In a future release, the default value for `weights_only` will be flipped to `True`. This limits the functions that could be executed during unpickling. Arbitrary objects will no longer be allowed to be loaded via this mode unless they are explicitly allowlisted by the user via `torch.serialization.add_safe_globals`. We recommend you start setting `weights_only=True` for any use case where you don't have full control of the loaded file. Please open an issue on GitHub for any issues related to this experimental feature.\n",
      "  labels = torch.load(f'/content/drive/MyDrive/part_one_dataset/eval_data/{j}_eval_data.tar.pth')['targets']\n"
     ]
    },
    {
     "name": "stdout",
     "output_type": "stream",
     "text": [
      "Model f9, Dataset D6 - Accuracy: 87.12%\n",
      "Model f9, Dataset D7 - Accuracy: 86.16%\n"
     ]
    },
    {
     "name": "stderr",
     "output_type": "stream",
     "text": [
      "<ipython-input-12-254dafa7e500>:26: FutureWarning: You are using `torch.load` with `weights_only=False` (the current default value), which uses the default pickle module implicitly. It is possible to construct malicious pickle data which will execute arbitrary code during unpickling (See https://github.com/pytorch/pytorch/blob/main/SECURITY.md#untrusted-models for more details). In a future release, the default value for `weights_only` will be flipped to `True`. This limits the functions that could be executed during unpickling. Arbitrary objects will no longer be allowed to be loaded via this mode unless they are explicitly allowlisted by the user via `torch.serialization.add_safe_globals`. We recommend you start setting `weights_only=True` for any use case where you don't have full control of the loaded file. Please open an issue on GitHub for any issues related to this experimental feature.\n",
      "  labels = torch.load(f'/content/drive/MyDrive/part_one_dataset/eval_data/{j}_eval_data.tar.pth')['targets']\n"
     ]
    },
    {
     "name": "stdout",
     "output_type": "stream",
     "text": [
      "Model f9, Dataset D8 - Accuracy: 87.04%\n"
     ]
    },
    {
     "name": "stderr",
     "output_type": "stream",
     "text": [
      "<ipython-input-12-254dafa7e500>:26: FutureWarning: You are using `torch.load` with `weights_only=False` (the current default value), which uses the default pickle module implicitly. It is possible to construct malicious pickle data which will execute arbitrary code during unpickling (See https://github.com/pytorch/pytorch/blob/main/SECURITY.md#untrusted-models for more details). In a future release, the default value for `weights_only` will be flipped to `True`. This limits the functions that could be executed during unpickling. Arbitrary objects will no longer be allowed to be loaded via this mode unless they are explicitly allowlisted by the user via `torch.serialization.add_safe_globals`. We recommend you start setting `weights_only=True` for any use case where you don't have full control of the loaded file. Please open an issue on GitHub for any issues related to this experimental feature.\n",
      "  labels = torch.load(f'/content/drive/MyDrive/part_one_dataset/eval_data/{j}_eval_data.tar.pth')['targets']\n"
     ]
    },
    {
     "name": "stdout",
     "output_type": "stream",
     "text": [
      "Model f9, Dataset D9 - Accuracy: 85.64%\n",
      "Time taken to test model f9: 5.54 seconds\n"
     ]
    },
    {
     "name": "stderr",
     "output_type": "stream",
     "text": [
      "<ipython-input-12-254dafa7e500>:26: FutureWarning: You are using `torch.load` with `weights_only=False` (the current default value), which uses the default pickle module implicitly. It is possible to construct malicious pickle data which will execute arbitrary code during unpickling (See https://github.com/pytorch/pytorch/blob/main/SECURITY.md#untrusted-models for more details). In a future release, the default value for `weights_only` will be flipped to `True`. This limits the functions that could be executed during unpickling. Arbitrary objects will no longer be allowed to be loaded via this mode unless they are explicitly allowlisted by the user via `torch.serialization.add_safe_globals`. We recommend you start setting `weights_only=True` for any use case where you don't have full control of the loaded file. Please open an issue on GitHub for any issues related to this experimental feature.\n",
      "  labels = torch.load(f'/content/drive/MyDrive/part_one_dataset/eval_data/{j}_eval_data.tar.pth')['targets']\n"
     ]
    },
    {
     "name": "stdout",
     "output_type": "stream",
     "text": [
      "Model f10, Dataset D1 - Accuracy: 85.40%\n"
     ]
    },
    {
     "name": "stderr",
     "output_type": "stream",
     "text": [
      "<ipython-input-12-254dafa7e500>:26: FutureWarning: You are using `torch.load` with `weights_only=False` (the current default value), which uses the default pickle module implicitly. It is possible to construct malicious pickle data which will execute arbitrary code during unpickling (See https://github.com/pytorch/pytorch/blob/main/SECURITY.md#untrusted-models for more details). In a future release, the default value for `weights_only` will be flipped to `True`. This limits the functions that could be executed during unpickling. Arbitrary objects will no longer be allowed to be loaded via this mode unless they are explicitly allowlisted by the user via `torch.serialization.add_safe_globals`. We recommend you start setting `weights_only=True` for any use case where you don't have full control of the loaded file. Please open an issue on GitHub for any issues related to this experimental feature.\n",
      "  labels = torch.load(f'/content/drive/MyDrive/part_one_dataset/eval_data/{j}_eval_data.tar.pth')['targets']\n"
     ]
    },
    {
     "name": "stdout",
     "output_type": "stream",
     "text": [
      "Model f10, Dataset D2 - Accuracy: 87.40%\n"
     ]
    },
    {
     "name": "stderr",
     "output_type": "stream",
     "text": [
      "<ipython-input-12-254dafa7e500>:26: FutureWarning: You are using `torch.load` with `weights_only=False` (the current default value), which uses the default pickle module implicitly. It is possible to construct malicious pickle data which will execute arbitrary code during unpickling (See https://github.com/pytorch/pytorch/blob/main/SECURITY.md#untrusted-models for more details). In a future release, the default value for `weights_only` will be flipped to `True`. This limits the functions that could be executed during unpickling. Arbitrary objects will no longer be allowed to be loaded via this mode unless they are explicitly allowlisted by the user via `torch.serialization.add_safe_globals`. We recommend you start setting `weights_only=True` for any use case where you don't have full control of the loaded file. Please open an issue on GitHub for any issues related to this experimental feature.\n",
      "  labels = torch.load(f'/content/drive/MyDrive/part_one_dataset/eval_data/{j}_eval_data.tar.pth')['targets']\n"
     ]
    },
    {
     "name": "stdout",
     "output_type": "stream",
     "text": [
      "Model f10, Dataset D3 - Accuracy: 86.88%\n"
     ]
    },
    {
     "name": "stderr",
     "output_type": "stream",
     "text": [
      "<ipython-input-12-254dafa7e500>:26: FutureWarning: You are using `torch.load` with `weights_only=False` (the current default value), which uses the default pickle module implicitly. It is possible to construct malicious pickle data which will execute arbitrary code during unpickling (See https://github.com/pytorch/pytorch/blob/main/SECURITY.md#untrusted-models for more details). In a future release, the default value for `weights_only` will be flipped to `True`. This limits the functions that could be executed during unpickling. Arbitrary objects will no longer be allowed to be loaded via this mode unless they are explicitly allowlisted by the user via `torch.serialization.add_safe_globals`. We recommend you start setting `weights_only=True` for any use case where you don't have full control of the loaded file. Please open an issue on GitHub for any issues related to this experimental feature.\n",
      "  labels = torch.load(f'/content/drive/MyDrive/part_one_dataset/eval_data/{j}_eval_data.tar.pth')['targets']\n"
     ]
    },
    {
     "name": "stdout",
     "output_type": "stream",
     "text": [
      "Model f10, Dataset D4 - Accuracy: 86.48%\n"
     ]
    },
    {
     "name": "stderr",
     "output_type": "stream",
     "text": [
      "<ipython-input-12-254dafa7e500>:26: FutureWarning: You are using `torch.load` with `weights_only=False` (the current default value), which uses the default pickle module implicitly. It is possible to construct malicious pickle data which will execute arbitrary code during unpickling (See https://github.com/pytorch/pytorch/blob/main/SECURITY.md#untrusted-models for more details). In a future release, the default value for `weights_only` will be flipped to `True`. This limits the functions that could be executed during unpickling. Arbitrary objects will no longer be allowed to be loaded via this mode unless they are explicitly allowlisted by the user via `torch.serialization.add_safe_globals`. We recommend you start setting `weights_only=True` for any use case where you don't have full control of the loaded file. Please open an issue on GitHub for any issues related to this experimental feature.\n",
      "  labels = torch.load(f'/content/drive/MyDrive/part_one_dataset/eval_data/{j}_eval_data.tar.pth')['targets']\n"
     ]
    },
    {
     "name": "stdout",
     "output_type": "stream",
     "text": [
      "Model f10, Dataset D5 - Accuracy: 85.92%\n"
     ]
    },
    {
     "name": "stderr",
     "output_type": "stream",
     "text": [
      "<ipython-input-12-254dafa7e500>:26: FutureWarning: You are using `torch.load` with `weights_only=False` (the current default value), which uses the default pickle module implicitly. It is possible to construct malicious pickle data which will execute arbitrary code during unpickling (See https://github.com/pytorch/pytorch/blob/main/SECURITY.md#untrusted-models for more details). In a future release, the default value for `weights_only` will be flipped to `True`. This limits the functions that could be executed during unpickling. Arbitrary objects will no longer be allowed to be loaded via this mode unless they are explicitly allowlisted by the user via `torch.serialization.add_safe_globals`. We recommend you start setting `weights_only=True` for any use case where you don't have full control of the loaded file. Please open an issue on GitHub for any issues related to this experimental feature.\n",
      "  labels = torch.load(f'/content/drive/MyDrive/part_one_dataset/eval_data/{j}_eval_data.tar.pth')['targets']\n"
     ]
    },
    {
     "name": "stdout",
     "output_type": "stream",
     "text": [
      "Model f10, Dataset D6 - Accuracy: 87.04%\n"
     ]
    },
    {
     "name": "stderr",
     "output_type": "stream",
     "text": [
      "<ipython-input-12-254dafa7e500>:26: FutureWarning: You are using `torch.load` with `weights_only=False` (the current default value), which uses the default pickle module implicitly. It is possible to construct malicious pickle data which will execute arbitrary code during unpickling (See https://github.com/pytorch/pytorch/blob/main/SECURITY.md#untrusted-models for more details). In a future release, the default value for `weights_only` will be flipped to `True`. This limits the functions that could be executed during unpickling. Arbitrary objects will no longer be allowed to be loaded via this mode unless they are explicitly allowlisted by the user via `torch.serialization.add_safe_globals`. We recommend you start setting `weights_only=True` for any use case where you don't have full control of the loaded file. Please open an issue on GitHub for any issues related to this experimental feature.\n",
      "  labels = torch.load(f'/content/drive/MyDrive/part_one_dataset/eval_data/{j}_eval_data.tar.pth')['targets']\n"
     ]
    },
    {
     "name": "stdout",
     "output_type": "stream",
     "text": [
      "Model f10, Dataset D7 - Accuracy: 86.04%\n"
     ]
    },
    {
     "name": "stderr",
     "output_type": "stream",
     "text": [
      "<ipython-input-12-254dafa7e500>:26: FutureWarning: You are using `torch.load` with `weights_only=False` (the current default value), which uses the default pickle module implicitly. It is possible to construct malicious pickle data which will execute arbitrary code during unpickling (See https://github.com/pytorch/pytorch/blob/main/SECURITY.md#untrusted-models for more details). In a future release, the default value for `weights_only` will be flipped to `True`. This limits the functions that could be executed during unpickling. Arbitrary objects will no longer be allowed to be loaded via this mode unless they are explicitly allowlisted by the user via `torch.serialization.add_safe_globals`. We recommend you start setting `weights_only=True` for any use case where you don't have full control of the loaded file. Please open an issue on GitHub for any issues related to this experimental feature.\n",
      "  labels = torch.load(f'/content/drive/MyDrive/part_one_dataset/eval_data/{j}_eval_data.tar.pth')['targets']\n"
     ]
    },
    {
     "name": "stdout",
     "output_type": "stream",
     "text": [
      "Model f10, Dataset D8 - Accuracy: 86.68%\n"
     ]
    },
    {
     "name": "stderr",
     "output_type": "stream",
     "text": [
      "<ipython-input-12-254dafa7e500>:26: FutureWarning: You are using `torch.load` with `weights_only=False` (the current default value), which uses the default pickle module implicitly. It is possible to construct malicious pickle data which will execute arbitrary code during unpickling (See https://github.com/pytorch/pytorch/blob/main/SECURITY.md#untrusted-models for more details). In a future release, the default value for `weights_only` will be flipped to `True`. This limits the functions that could be executed during unpickling. Arbitrary objects will no longer be allowed to be loaded via this mode unless they are explicitly allowlisted by the user via `torch.serialization.add_safe_globals`. We recommend you start setting `weights_only=True` for any use case where you don't have full control of the loaded file. Please open an issue on GitHub for any issues related to this experimental feature.\n",
      "  labels = torch.load(f'/content/drive/MyDrive/part_one_dataset/eval_data/{j}_eval_data.tar.pth')['targets']\n"
     ]
    },
    {
     "name": "stdout",
     "output_type": "stream",
     "text": [
      "Model f10, Dataset D9 - Accuracy: 85.48%\n"
     ]
    },
    {
     "name": "stderr",
     "output_type": "stream",
     "text": [
      "<ipython-input-12-254dafa7e500>:26: FutureWarning: You are using `torch.load` with `weights_only=False` (the current default value), which uses the default pickle module implicitly. It is possible to construct malicious pickle data which will execute arbitrary code during unpickling (See https://github.com/pytorch/pytorch/blob/main/SECURITY.md#untrusted-models for more details). In a future release, the default value for `weights_only` will be flipped to `True`. This limits the functions that could be executed during unpickling. Arbitrary objects will no longer be allowed to be loaded via this mode unless they are explicitly allowlisted by the user via `torch.serialization.add_safe_globals`. We recommend you start setting `weights_only=True` for any use case where you don't have full control of the loaded file. Please open an issue on GitHub for any issues related to this experimental feature.\n",
      "  labels = torch.load(f'/content/drive/MyDrive/part_one_dataset/eval_data/{j}_eval_data.tar.pth')['targets']\n"
     ]
    },
    {
     "name": "stdout",
     "output_type": "stream",
     "text": [
      "Model f10, Dataset D10 - Accuracy: 85.96%\n",
      "Time taken to test model f10: 4.91 seconds\n"
     ]
    },
    {
     "data": {
      "image/png": "[encoded data removed]",
      "text/plain": [
       "<Figure size 1000x800 with 2 Axes>"
      ]
     },
     "metadata": {},
     "output_type": "display_data"
    }
   ],
   "source": [
    "task1_test_features()"
   ]
  },
  {
   "cell_type": "code",
   "execution_count": null,
   "metadata": {
    "id": "71jnw8bH3uh1"
   },
   "outputs": [],
   "source": []
  }
 ],
 "metadata": {
  "colab": {
   "provenance": []
  },
  "kernelspec": {
   "display_name": "Python 3 (ipykernel)",
   "language": "python",
   "name": "python3"
  },
  "language_info": {
   "codemirror_mode": {
    "name": "ipython",
    "version": 3
   },
   "file_extension": ".py",
   "mimetype": "text/x-python",
   "name": "python",
   "nbconvert_exporter": "python",
   "pygments_lexer": "ipython3",
   "version": "3.10.13"
  }
 },
 "nbformat": 4,
 "nbformat_minor": 4
}
